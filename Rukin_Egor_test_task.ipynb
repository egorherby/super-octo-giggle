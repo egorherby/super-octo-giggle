{
 "cells": [
  {
   "cell_type": "markdown",
   "id": "a16f054f",
   "metadata": {},
   "source": [
    "# Тестовое задание"
   ]
  },
  {
   "cell_type": "markdown",
   "id": "3ed57190",
   "metadata": {},
   "source": [
    "Импортируем нужные пакеты"
   ]
  },
  {
   "cell_type": "code",
   "execution_count": 497,
   "id": "03134520",
   "metadata": {},
   "outputs": [],
   "source": [
    "import pandas as pd\n",
    "import numpy as np\n",
    "import seaborn as sns\n",
    "import matplotlib.pyplot as plt"
   ]
  },
  {
   "cell_type": "markdown",
   "id": "9acac558",
   "metadata": {},
   "source": [
    "Чтобы импортировать датасет нужно, чтобы он лежал в одной папке с этим ноутбуком."
   ]
  },
  {
   "cell_type": "code",
   "execution_count": 498,
   "id": "71d1472d",
   "metadata": {},
   "outputs": [],
   "source": [
    "cards = pd.read_csv('all_mtg_cards.csv', low_memory=False)"
   ]
  },
  {
   "cell_type": "code",
   "execution_count": 499,
   "id": "d203d746",
   "metadata": {},
   "outputs": [
    {
     "data": {
      "text/plain": [
       "(66770, 39)"
      ]
     },
     "execution_count": 499,
     "metadata": {},
     "output_type": "execute_result"
    }
   ],
   "source": [
    "cards.shape"
   ]
  },
  {
   "cell_type": "code",
   "execution_count": 500,
   "id": "f148240f",
   "metadata": {},
   "outputs": [
    {
     "data": {
      "text/html": [
       "<div>\n",
       "<style scoped>\n",
       "    .dataframe tbody tr th:only-of-type {\n",
       "        vertical-align: middle;\n",
       "    }\n",
       "\n",
       "    .dataframe tbody tr th {\n",
       "        vertical-align: top;\n",
       "    }\n",
       "\n",
       "    .dataframe thead th {\n",
       "        text-align: right;\n",
       "    }\n",
       "</style>\n",
       "<table border=\"1\" class=\"dataframe\">\n",
       "  <thead>\n",
       "    <tr style=\"text-align: right;\">\n",
       "      <th></th>\n",
       "      <th>name</th>\n",
       "      <th>multiverse_id</th>\n",
       "      <th>layout</th>\n",
       "      <th>names</th>\n",
       "      <th>mana_cost</th>\n",
       "      <th>cmc</th>\n",
       "      <th>colors</th>\n",
       "      <th>color_identity</th>\n",
       "      <th>type</th>\n",
       "      <th>supertypes</th>\n",
       "      <th>...</th>\n",
       "      <th>foreign_names</th>\n",
       "      <th>printings</th>\n",
       "      <th>original_text</th>\n",
       "      <th>original_type</th>\n",
       "      <th>legalities</th>\n",
       "      <th>source</th>\n",
       "      <th>image_url</th>\n",
       "      <th>set</th>\n",
       "      <th>set_name</th>\n",
       "      <th>id</th>\n",
       "    </tr>\n",
       "  </thead>\n",
       "  <tbody>\n",
       "    <tr>\n",
       "      <th>0</th>\n",
       "      <td>Ancestor's Chosen</td>\n",
       "      <td>130550.0</td>\n",
       "      <td>normal</td>\n",
       "      <td>NaN</td>\n",
       "      <td>{5}{W}{W}</td>\n",
       "      <td>7.0</td>\n",
       "      <td>['White']</td>\n",
       "      <td>['W']</td>\n",
       "      <td>Creature — Human Cleric</td>\n",
       "      <td>NaN</td>\n",
       "      <td>...</td>\n",
       "      <td>[{'name': 'Ausgewählter der Ahnfrau', 'text': ...</td>\n",
       "      <td>['10E', 'JUD', 'UMA']</td>\n",
       "      <td>First strike (This creature deals combat damag...</td>\n",
       "      <td>Creature - Human Cleric</td>\n",
       "      <td>[{'format': 'Commander', 'legality': 'Legal'},...</td>\n",
       "      <td>NaN</td>\n",
       "      <td>http://gatherer.wizards.com/Handlers/Image.ash...</td>\n",
       "      <td>10E</td>\n",
       "      <td>Tenth Edition</td>\n",
       "      <td>5f8287b1-5bb6-5f4c-ad17-316a40d5bb0c</td>\n",
       "    </tr>\n",
       "    <tr>\n",
       "      <th>1</th>\n",
       "      <td>Ancestor's Chosen</td>\n",
       "      <td>NaN</td>\n",
       "      <td>normal</td>\n",
       "      <td>NaN</td>\n",
       "      <td>{5}{W}{W}</td>\n",
       "      <td>7.0</td>\n",
       "      <td>['White']</td>\n",
       "      <td>['W']</td>\n",
       "      <td>Creature — Human Cleric</td>\n",
       "      <td>NaN</td>\n",
       "      <td>...</td>\n",
       "      <td>NaN</td>\n",
       "      <td>['10E', 'JUD', 'UMA']</td>\n",
       "      <td>NaN</td>\n",
       "      <td>NaN</td>\n",
       "      <td>[{'format': 'Commander', 'legality': 'Legal'},...</td>\n",
       "      <td>NaN</td>\n",
       "      <td>NaN</td>\n",
       "      <td>10E</td>\n",
       "      <td>Tenth Edition</td>\n",
       "      <td>b7c19924-b4bf-56fc-aa73-f586e940bd42</td>\n",
       "    </tr>\n",
       "    <tr>\n",
       "      <th>2</th>\n",
       "      <td>Angel of Mercy</td>\n",
       "      <td>129465.0</td>\n",
       "      <td>normal</td>\n",
       "      <td>NaN</td>\n",
       "      <td>{4}{W}</td>\n",
       "      <td>5.0</td>\n",
       "      <td>['White']</td>\n",
       "      <td>['W']</td>\n",
       "      <td>Creature — Angel</td>\n",
       "      <td>NaN</td>\n",
       "      <td>...</td>\n",
       "      <td>[{'name': 'Engel der Gnade', 'text': 'Fliegend...</td>\n",
       "      <td>['10E', '8ED', '9ED', 'DDC', 'DVD', 'IMA', 'IN...</td>\n",
       "      <td>Flying (This creature can't be blocked except ...</td>\n",
       "      <td>Creature - Angel</td>\n",
       "      <td>[{'format': 'Commander', 'legality': 'Legal'},...</td>\n",
       "      <td>NaN</td>\n",
       "      <td>http://gatherer.wizards.com/Handlers/Image.ash...</td>\n",
       "      <td>10E</td>\n",
       "      <td>Tenth Edition</td>\n",
       "      <td>57aaebc1-850c-503d-9f6e-bb8d00d8bf7c</td>\n",
       "    </tr>\n",
       "  </tbody>\n",
       "</table>\n",
       "<p>3 rows × 39 columns</p>\n",
       "</div>"
      ],
      "text/plain": [
       "                name  multiverse_id  layout  names  mana_cost  cmc     colors  \\\n",
       "0  Ancestor's Chosen       130550.0  normal    NaN  {5}{W}{W}  7.0  ['White']   \n",
       "1  Ancestor's Chosen            NaN  normal    NaN  {5}{W}{W}  7.0  ['White']   \n",
       "2     Angel of Mercy       129465.0  normal    NaN     {4}{W}  5.0  ['White']   \n",
       "\n",
       "  color_identity                     type supertypes  ...  \\\n",
       "0          ['W']  Creature — Human Cleric        NaN  ...   \n",
       "1          ['W']  Creature — Human Cleric        NaN  ...   \n",
       "2          ['W']         Creature — Angel        NaN  ...   \n",
       "\n",
       "                                       foreign_names  \\\n",
       "0  [{'name': 'Ausgewählter der Ahnfrau', 'text': ...   \n",
       "1                                                NaN   \n",
       "2  [{'name': 'Engel der Gnade', 'text': 'Fliegend...   \n",
       "\n",
       "                                           printings  \\\n",
       "0                              ['10E', 'JUD', 'UMA']   \n",
       "1                              ['10E', 'JUD', 'UMA']   \n",
       "2  ['10E', '8ED', '9ED', 'DDC', 'DVD', 'IMA', 'IN...   \n",
       "\n",
       "                                       original_text            original_type  \\\n",
       "0  First strike (This creature deals combat damag...  Creature - Human Cleric   \n",
       "1                                                NaN                      NaN   \n",
       "2  Flying (This creature can't be blocked except ...         Creature - Angel   \n",
       "\n",
       "                                          legalities source  \\\n",
       "0  [{'format': 'Commander', 'legality': 'Legal'},...    NaN   \n",
       "1  [{'format': 'Commander', 'legality': 'Legal'},...    NaN   \n",
       "2  [{'format': 'Commander', 'legality': 'Legal'},...    NaN   \n",
       "\n",
       "                                           image_url  set       set_name  \\\n",
       "0  http://gatherer.wizards.com/Handlers/Image.ash...  10E  Tenth Edition   \n",
       "1                                                NaN  10E  Tenth Edition   \n",
       "2  http://gatherer.wizards.com/Handlers/Image.ash...  10E  Tenth Edition   \n",
       "\n",
       "                                     id  \n",
       "0  5f8287b1-5bb6-5f4c-ad17-316a40d5bb0c  \n",
       "1  b7c19924-b4bf-56fc-aa73-f586e940bd42  \n",
       "2  57aaebc1-850c-503d-9f6e-bb8d00d8bf7c  \n",
       "\n",
       "[3 rows x 39 columns]"
      ]
     },
     "execution_count": 500,
     "metadata": {},
     "output_type": "execute_result"
    }
   ],
   "source": [
    "cards.head(3)"
   ]
  },
  {
   "cell_type": "code",
   "execution_count": 501,
   "id": "697df486",
   "metadata": {},
   "outputs": [
    {
     "name": "stdout",
     "output_type": "stream",
     "text": [
      "<class 'pandas.core.frame.DataFrame'>\n",
      "RangeIndex: 66770 entries, 0 to 66769\n",
      "Data columns (total 39 columns):\n",
      " #   Column          Non-Null Count  Dtype  \n",
      "---  ------          --------------  -----  \n",
      " 0   name            66770 non-null  object \n",
      " 1   multiverse_id   47455 non-null  float64\n",
      " 2   layout          66770 non-null  object \n",
      " 3   names           0 non-null      float64\n",
      " 4   mana_cost       58100 non-null  object \n",
      " 5   cmc             66770 non-null  float64\n",
      " 6   colors          52612 non-null  object \n",
      " 7   color_identity  59739 non-null  object \n",
      " 8   type            66770 non-null  object \n",
      " 9   supertypes      9912 non-null   object \n",
      " 10  subtypes        40903 non-null  object \n",
      " 11  rarity          66770 non-null  object \n",
      " 12  text            65805 non-null  object \n",
      " 13  flavor          34412 non-null  object \n",
      " 14  artist          66759 non-null  object \n",
      " 15  number          66770 non-null  object \n",
      " 16  power           31332 non-null  object \n",
      " 17  toughness       31332 non-null  object \n",
      " 18  loyalty         1075 non-null   object \n",
      " 19  variations      12590 non-null  object \n",
      " 20  watermark       5110 non-null   object \n",
      " 21  border          0 non-null      float64\n",
      " 22  timeshifted     0 non-null      float64\n",
      " 23  hand            119 non-null    float64\n",
      " 24  life            119 non-null    float64\n",
      " 25  reserved        0 non-null      float64\n",
      " 26  release_date    0 non-null      float64\n",
      " 27  starter         0 non-null      float64\n",
      " 28  rulings         37243 non-null  object \n",
      " 29  foreign_names   41285 non-null  object \n",
      " 30  printings       66770 non-null  object \n",
      " 31  original_text   46485 non-null  object \n",
      " 32  original_type   47435 non-null  object \n",
      " 33  legalities      65380 non-null  object \n",
      " 34  source          0 non-null      float64\n",
      " 35  image_url       47455 non-null  object \n",
      " 36  set             66770 non-null  object \n",
      " 37  set_name        66770 non-null  object \n",
      " 38  id              66770 non-null  object \n",
      "dtypes: float64(11), object(28)\n",
      "memory usage: 19.9+ MB\n"
     ]
    }
   ],
   "source": [
    "cards.info()"
   ]
  },
  {
   "cell_type": "markdown",
   "id": "6814931f",
   "metadata": {},
   "source": [
    "Посмотрим на базовые статистики данных в датасете:"
   ]
  },
  {
   "cell_type": "code",
   "execution_count": 502,
   "id": "a8959c0f",
   "metadata": {},
   "outputs": [
    {
     "data": {
      "text/html": [
       "<div>\n",
       "<style scoped>\n",
       "    .dataframe tbody tr th:only-of-type {\n",
       "        vertical-align: middle;\n",
       "    }\n",
       "\n",
       "    .dataframe tbody tr th {\n",
       "        vertical-align: top;\n",
       "    }\n",
       "\n",
       "    .dataframe thead th {\n",
       "        text-align: right;\n",
       "    }\n",
       "</style>\n",
       "<table border=\"1\" class=\"dataframe\">\n",
       "  <thead>\n",
       "    <tr style=\"text-align: right;\">\n",
       "      <th></th>\n",
       "      <th>count</th>\n",
       "      <th>unique</th>\n",
       "      <th>top</th>\n",
       "      <th>freq</th>\n",
       "    </tr>\n",
       "  </thead>\n",
       "  <tbody>\n",
       "    <tr>\n",
       "      <th>id</th>\n",
       "      <td>66770</td>\n",
       "      <td>66770</td>\n",
       "      <td>5f8287b1-5bb6-5f4c-ad17-316a40d5bb0c</td>\n",
       "      <td>1</td>\n",
       "    </tr>\n",
       "    <tr>\n",
       "      <th>image_url</th>\n",
       "      <td>47455</td>\n",
       "      <td>47250</td>\n",
       "      <td>http://gatherer.wizards.com/Handlers/Image.ash...</td>\n",
       "      <td>5</td>\n",
       "    </tr>\n",
       "    <tr>\n",
       "      <th>foreign_names</th>\n",
       "      <td>41285</td>\n",
       "      <td>40349</td>\n",
       "      <td>[{'name': 'Pantano', 'flavor': None, 'language...</td>\n",
       "      <td>66</td>\n",
       "    </tr>\n",
       "    <tr>\n",
       "      <th>original_text</th>\n",
       "      <td>46485</td>\n",
       "      <td>30343</td>\n",
       "      <td>G</td>\n",
       "      <td>382</td>\n",
       "    </tr>\n",
       "    <tr>\n",
       "      <th>name</th>\n",
       "      <td>66770</td>\n",
       "      <td>24121</td>\n",
       "      <td>Forest</td>\n",
       "      <td>742</td>\n",
       "    </tr>\n",
       "    <tr>\n",
       "      <th>text</th>\n",
       "      <td>65805</td>\n",
       "      <td>23056</td>\n",
       "      <td>({T}: Add {G}.)</td>\n",
       "      <td>751</td>\n",
       "    </tr>\n",
       "    <tr>\n",
       "      <th>flavor</th>\n",
       "      <td>34412</td>\n",
       "      <td>19007</td>\n",
       "      <td>Lost to time is the artificer's art of trappin...</td>\n",
       "      <td>24</td>\n",
       "    </tr>\n",
       "    <tr>\n",
       "      <th>variations</th>\n",
       "      <td>12590</td>\n",
       "      <td>12590</td>\n",
       "      <td>['b7c19924-b4bf-56fc-aa73-f586e940bd42']</td>\n",
       "      <td>1</td>\n",
       "    </tr>\n",
       "    <tr>\n",
       "      <th>rulings</th>\n",
       "      <td>37243</td>\n",
       "      <td>10898</td>\n",
       "      <td>[{'date': '2008-10-01', 'text': 'Cycling is an...</td>\n",
       "      <td>249</td>\n",
       "    </tr>\n",
       "    <tr>\n",
       "      <th>number</th>\n",
       "      <td>66770</td>\n",
       "      <td>7711</td>\n",
       "      <td>1</td>\n",
       "      <td>409</td>\n",
       "    </tr>\n",
       "    <tr>\n",
       "      <th>printings</th>\n",
       "      <td>66770</td>\n",
       "      <td>6951</td>\n",
       "      <td>['10E', '2ED', '2XM', '3ED', '4BB', '4ED', '5E...</td>\n",
       "      <td>742</td>\n",
       "    </tr>\n",
       "    <tr>\n",
       "      <th>original_type</th>\n",
       "      <td>47435</td>\n",
       "      <td>3296</td>\n",
       "      <td>Instant</td>\n",
       "      <td>5324</td>\n",
       "    </tr>\n",
       "    <tr>\n",
       "      <th>type</th>\n",
       "      <td>66770</td>\n",
       "      <td>2402</td>\n",
       "      <td>Instant</td>\n",
       "      <td>7531</td>\n",
       "    </tr>\n",
       "    <tr>\n",
       "      <th>subtypes</th>\n",
       "      <td>40903</td>\n",
       "      <td>1777</td>\n",
       "      <td>['Aura']</td>\n",
       "      <td>2495</td>\n",
       "    </tr>\n",
       "    <tr>\n",
       "      <th>artist</th>\n",
       "      <td>66759</td>\n",
       "      <td>1317</td>\n",
       "      <td>John Avon</td>\n",
       "      <td>1177</td>\n",
       "    </tr>\n",
       "    <tr>\n",
       "      <th>mana_cost</th>\n",
       "      <td>58100</td>\n",
       "      <td>733</td>\n",
       "      <td>{1}{W}</td>\n",
       "      <td>1936</td>\n",
       "    </tr>\n",
       "    <tr>\n",
       "      <th>set</th>\n",
       "      <td>66770</td>\n",
       "      <td>584</td>\n",
       "      <td>PRM</td>\n",
       "      <td>2364</td>\n",
       "    </tr>\n",
       "    <tr>\n",
       "      <th>set_name</th>\n",
       "      <td>66770</td>\n",
       "      <td>583</td>\n",
       "      <td>Magic Online Promos</td>\n",
       "      <td>2364</td>\n",
       "    </tr>\n",
       "    <tr>\n",
       "      <th>legalities</th>\n",
       "      <td>65380</td>\n",
       "      <td>319</td>\n",
       "      <td>[{'format': 'Commander', 'legality': 'Legal'},...</td>\n",
       "      <td>4901</td>\n",
       "    </tr>\n",
       "    <tr>\n",
       "      <th>watermark</th>\n",
       "      <td>5110</td>\n",
       "      <td>173</td>\n",
       "      <td>mirran</td>\n",
       "      <td>354</td>\n",
       "    </tr>\n",
       "    <tr>\n",
       "      <th>colors</th>\n",
       "      <td>52612</td>\n",
       "      <td>39</td>\n",
       "      <td>['Green']</td>\n",
       "      <td>9416</td>\n",
       "    </tr>\n",
       "    <tr>\n",
       "      <th>toughness</th>\n",
       "      <td>31332</td>\n",
       "      <td>38</td>\n",
       "      <td>2</td>\n",
       "      <td>7618</td>\n",
       "    </tr>\n",
       "    <tr>\n",
       "      <th>power</th>\n",
       "      <td>31332</td>\n",
       "      <td>33</td>\n",
       "      <td>2</td>\n",
       "      <td>9239</td>\n",
       "    </tr>\n",
       "    <tr>\n",
       "      <th>color_identity</th>\n",
       "      <td>59739</td>\n",
       "      <td>31</td>\n",
       "      <td>['G']</td>\n",
       "      <td>10173</td>\n",
       "    </tr>\n",
       "    <tr>\n",
       "      <th>layout</th>\n",
       "      <td>66770</td>\n",
       "      <td>17</td>\n",
       "      <td>normal</td>\n",
       "      <td>63927</td>\n",
       "    </tr>\n",
       "    <tr>\n",
       "      <th>loyalty</th>\n",
       "      <td>1075</td>\n",
       "      <td>11</td>\n",
       "      <td>4</td>\n",
       "      <td>350</td>\n",
       "    </tr>\n",
       "    <tr>\n",
       "      <th>supertypes</th>\n",
       "      <td>9912</td>\n",
       "      <td>8</td>\n",
       "      <td>['Legendary']</td>\n",
       "      <td>6069</td>\n",
       "    </tr>\n",
       "    <tr>\n",
       "      <th>rarity</th>\n",
       "      <td>66770</td>\n",
       "      <td>6</td>\n",
       "      <td>Common</td>\n",
       "      <td>22604</td>\n",
       "    </tr>\n",
       "  </tbody>\n",
       "</table>\n",
       "</div>"
      ],
      "text/plain": [
       "                count unique  \\\n",
       "id              66770  66770   \n",
       "image_url       47455  47250   \n",
       "foreign_names   41285  40349   \n",
       "original_text   46485  30343   \n",
       "name            66770  24121   \n",
       "text            65805  23056   \n",
       "flavor          34412  19007   \n",
       "variations      12590  12590   \n",
       "rulings         37243  10898   \n",
       "number          66770   7711   \n",
       "printings       66770   6951   \n",
       "original_type   47435   3296   \n",
       "type            66770   2402   \n",
       "subtypes        40903   1777   \n",
       "artist          66759   1317   \n",
       "mana_cost       58100    733   \n",
       "set             66770    584   \n",
       "set_name        66770    583   \n",
       "legalities      65380    319   \n",
       "watermark        5110    173   \n",
       "colors          52612     39   \n",
       "toughness       31332     38   \n",
       "power           31332     33   \n",
       "color_identity  59739     31   \n",
       "layout          66770     17   \n",
       "loyalty          1075     11   \n",
       "supertypes       9912      8   \n",
       "rarity          66770      6   \n",
       "\n",
       "                                                              top   freq  \n",
       "id                           5f8287b1-5bb6-5f4c-ad17-316a40d5bb0c      1  \n",
       "image_url       http://gatherer.wizards.com/Handlers/Image.ash...      5  \n",
       "foreign_names   [{'name': 'Pantano', 'flavor': None, 'language...     66  \n",
       "original_text                                                   G    382  \n",
       "name                                                       Forest    742  \n",
       "text                                              ({T}: Add {G}.)    751  \n",
       "flavor          Lost to time is the artificer's art of trappin...     24  \n",
       "variations               ['b7c19924-b4bf-56fc-aa73-f586e940bd42']      1  \n",
       "rulings         [{'date': '2008-10-01', 'text': 'Cycling is an...    249  \n",
       "number                                                          1    409  \n",
       "printings       ['10E', '2ED', '2XM', '3ED', '4BB', '4ED', '5E...    742  \n",
       "original_type                                             Instant   5324  \n",
       "type                                                      Instant   7531  \n",
       "subtypes                                                 ['Aura']   2495  \n",
       "artist                                                  John Avon   1177  \n",
       "mana_cost                                                  {1}{W}   1936  \n",
       "set                                                           PRM   2364  \n",
       "set_name                                      Magic Online Promos   2364  \n",
       "legalities      [{'format': 'Commander', 'legality': 'Legal'},...   4901  \n",
       "watermark                                                  mirran    354  \n",
       "colors                                                  ['Green']   9416  \n",
       "toughness                                                       2   7618  \n",
       "power                                                           2   9239  \n",
       "color_identity                                              ['G']  10173  \n",
       "layout                                                     normal  63927  \n",
       "loyalty                                                         4    350  \n",
       "supertypes                                          ['Legendary']   6069  \n",
       "rarity                                                     Common  22604  "
      ]
     },
     "execution_count": 502,
     "metadata": {},
     "output_type": "execute_result"
    }
   ],
   "source": [
    "cards.describe(include='object').T.sort_values(by='unique',ascending=False)"
   ]
  },
  {
   "cell_type": "code",
   "execution_count": 503,
   "id": "70637534",
   "metadata": {},
   "outputs": [
    {
     "data": {
      "text/plain": [
       "0.36125505466526886"
      ]
     },
     "execution_count": 503,
     "metadata": {},
     "output_type": "execute_result"
    }
   ],
   "source": [
    "24121/cards.shape[0]"
   ]
  },
  {
   "cell_type": "markdown",
   "id": "ab746fc3",
   "metadata": {},
   "source": [
    "Видно, что уникальных имен среди карт всего 24121(36%)(как я понял, карты могли переиздаваться или входили в разные сеты, поэтому в базе данных карты имеют разные UUID), самая часто встречающаяся карта — `Forest`, самый частый цвет карт — зеленый, самый распространенный тип карт — `Instant`.\n",
    "Художник, который нарисовал больше всего карт — John Avon"
   ]
  },
  {
   "cell_type": "code",
   "execution_count": 504,
   "id": "2bdd78dd",
   "metadata": {},
   "outputs": [
    {
     "data": {
      "text/html": [
       "<div>\n",
       "<style scoped>\n",
       "    .dataframe tbody tr th:only-of-type {\n",
       "        vertical-align: middle;\n",
       "    }\n",
       "\n",
       "    .dataframe tbody tr th {\n",
       "        vertical-align: top;\n",
       "    }\n",
       "\n",
       "    .dataframe thead th {\n",
       "        text-align: right;\n",
       "    }\n",
       "</style>\n",
       "<table border=\"1\" class=\"dataframe\">\n",
       "  <thead>\n",
       "    <tr style=\"text-align: right;\">\n",
       "      <th></th>\n",
       "      <th>multiverse_id</th>\n",
       "      <th>names</th>\n",
       "      <th>cmc</th>\n",
       "      <th>border</th>\n",
       "      <th>timeshifted</th>\n",
       "      <th>hand</th>\n",
       "      <th>life</th>\n",
       "      <th>reserved</th>\n",
       "      <th>release_date</th>\n",
       "      <th>starter</th>\n",
       "      <th>source</th>\n",
       "    </tr>\n",
       "  </thead>\n",
       "  <tbody>\n",
       "    <tr>\n",
       "      <th>count</th>\n",
       "      <td>47455.000000</td>\n",
       "      <td>0.0</td>\n",
       "      <td>66770.000000</td>\n",
       "      <td>0.0</td>\n",
       "      <td>0.0</td>\n",
       "      <td>119.000000</td>\n",
       "      <td>119.000000</td>\n",
       "      <td>0.0</td>\n",
       "      <td>0.0</td>\n",
       "      <td>0.0</td>\n",
       "      <td>0.0</td>\n",
       "    </tr>\n",
       "    <tr>\n",
       "      <th>mean</th>\n",
       "      <td>290700.799368</td>\n",
       "      <td>NaN</td>\n",
       "      <td>32.916063</td>\n",
       "      <td>NaN</td>\n",
       "      <td>NaN</td>\n",
       "      <td>0.084034</td>\n",
       "      <td>1.084034</td>\n",
       "      <td>NaN</td>\n",
       "      <td>NaN</td>\n",
       "      <td>NaN</td>\n",
       "      <td>NaN</td>\n",
       "    </tr>\n",
       "    <tr>\n",
       "      <th>std</th>\n",
       "      <td>194453.448332</td>\n",
       "      <td>NaN</td>\n",
       "      <td>5472.928809</td>\n",
       "      <td>NaN</td>\n",
       "      <td>NaN</td>\n",
       "      <td>1.211385</td>\n",
       "      <td>5.683130</td>\n",
       "      <td>NaN</td>\n",
       "      <td>NaN</td>\n",
       "      <td>NaN</td>\n",
       "      <td>NaN</td>\n",
       "    </tr>\n",
       "    <tr>\n",
       "      <th>min</th>\n",
       "      <td>1.000000</td>\n",
       "      <td>NaN</td>\n",
       "      <td>0.000000</td>\n",
       "      <td>NaN</td>\n",
       "      <td>NaN</td>\n",
       "      <td>-4.000000</td>\n",
       "      <td>-8.000000</td>\n",
       "      <td>NaN</td>\n",
       "      <td>NaN</td>\n",
       "      <td>NaN</td>\n",
       "      <td>NaN</td>\n",
       "    </tr>\n",
       "    <tr>\n",
       "      <th>25%</th>\n",
       "      <td>83204.500000</td>\n",
       "      <td>NaN</td>\n",
       "      <td>2.000000</td>\n",
       "      <td>NaN</td>\n",
       "      <td>NaN</td>\n",
       "      <td>-1.000000</td>\n",
       "      <td>-3.000000</td>\n",
       "      <td>NaN</td>\n",
       "      <td>NaN</td>\n",
       "      <td>NaN</td>\n",
       "      <td>NaN</td>\n",
       "    </tr>\n",
       "    <tr>\n",
       "      <th>50%</th>\n",
       "      <td>380433.000000</td>\n",
       "      <td>NaN</td>\n",
       "      <td>3.000000</td>\n",
       "      <td>NaN</td>\n",
       "      <td>NaN</td>\n",
       "      <td>0.000000</td>\n",
       "      <td>0.000000</td>\n",
       "      <td>NaN</td>\n",
       "      <td>NaN</td>\n",
       "      <td>NaN</td>\n",
       "      <td>NaN</td>\n",
       "    </tr>\n",
       "    <tr>\n",
       "      <th>75%</th>\n",
       "      <td>456759.500000</td>\n",
       "      <td>NaN</td>\n",
       "      <td>4.000000</td>\n",
       "      <td>NaN</td>\n",
       "      <td>NaN</td>\n",
       "      <td>1.000000</td>\n",
       "      <td>4.000000</td>\n",
       "      <td>NaN</td>\n",
       "      <td>NaN</td>\n",
       "      <td>NaN</td>\n",
       "      <td>NaN</td>\n",
       "    </tr>\n",
       "    <tr>\n",
       "      <th>max</th>\n",
       "      <td>562797.000000</td>\n",
       "      <td>NaN</td>\n",
       "      <td>1000000.000000</td>\n",
       "      <td>NaN</td>\n",
       "      <td>NaN</td>\n",
       "      <td>3.000000</td>\n",
       "      <td>30.000000</td>\n",
       "      <td>NaN</td>\n",
       "      <td>NaN</td>\n",
       "      <td>NaN</td>\n",
       "      <td>NaN</td>\n",
       "    </tr>\n",
       "  </tbody>\n",
       "</table>\n",
       "</div>"
      ],
      "text/plain": [
       "       multiverse_id  names             cmc  border  timeshifted        hand  \\\n",
       "count   47455.000000    0.0    66770.000000     0.0          0.0  119.000000   \n",
       "mean   290700.799368    NaN       32.916063     NaN          NaN    0.084034   \n",
       "std    194453.448332    NaN     5472.928809     NaN          NaN    1.211385   \n",
       "min         1.000000    NaN        0.000000     NaN          NaN   -4.000000   \n",
       "25%     83204.500000    NaN        2.000000     NaN          NaN   -1.000000   \n",
       "50%    380433.000000    NaN        3.000000     NaN          NaN    0.000000   \n",
       "75%    456759.500000    NaN        4.000000     NaN          NaN    1.000000   \n",
       "max    562797.000000    NaN  1000000.000000     NaN          NaN    3.000000   \n",
       "\n",
       "             life  reserved  release_date  starter  source  \n",
       "count  119.000000       0.0           0.0      0.0     0.0  \n",
       "mean     1.084034       NaN           NaN      NaN     NaN  \n",
       "std      5.683130       NaN           NaN      NaN     NaN  \n",
       "min     -8.000000       NaN           NaN      NaN     NaN  \n",
       "25%     -3.000000       NaN           NaN      NaN     NaN  \n",
       "50%      0.000000       NaN           NaN      NaN     NaN  \n",
       "75%      4.000000       NaN           NaN      NaN     NaN  \n",
       "max     30.000000       NaN           NaN      NaN     NaN  "
      ]
     },
     "execution_count": 504,
     "metadata": {},
     "output_type": "execute_result"
    }
   ],
   "source": [
    "cards.describe(exclude='object')"
   ]
  },
  {
   "cell_type": "code",
   "execution_count": 505,
   "id": "ee7f1bc4",
   "metadata": {},
   "outputs": [
    {
     "data": {
      "text/plain": [
       "id                66770\n",
       "multiverse_id     47250\n",
       "image_url         47250\n",
       "foreign_names     40349\n",
       "original_text     30343\n",
       "name              24121\n",
       "text              23056\n",
       "flavor            19007\n",
       "variations        12590\n",
       "rulings           10898\n",
       "number             7711\n",
       "printings          6951\n",
       "original_type      3296\n",
       "type               2402\n",
       "subtypes           1777\n",
       "artist             1317\n",
       "mana_cost           733\n",
       "set                 584\n",
       "set_name            583\n",
       "legalities          319\n",
       "watermark           173\n",
       "colors               39\n",
       "toughness            38\n",
       "power                33\n",
       "color_identity       31\n",
       "life                 23\n",
       "cmc                  19\n",
       "layout               17\n",
       "loyalty              11\n",
       "hand                  8\n",
       "supertypes            8\n",
       "rarity                6\n",
       "border                0\n",
       "names                 0\n",
       "starter               0\n",
       "release_date          0\n",
       "source                0\n",
       "reserved              0\n",
       "timeshifted           0\n",
       "dtype: int64"
      ]
     },
     "execution_count": 505,
     "metadata": {},
     "output_type": "execute_result"
    }
   ],
   "source": [
    "cards.nunique().sort_values(ascending=False)"
   ]
  },
  {
   "cell_type": "markdown",
   "id": "e5e48248",
   "metadata": {},
   "source": [
    "Датасет соответствует тому, что представлен в источнике "
   ]
  },
  {
   "cell_type": "markdown",
   "id": "a75bfdda",
   "metadata": {},
   "source": [
    "В этом датасете есть несколько пустых колонок"
   ]
  },
  {
   "cell_type": "code",
   "execution_count": 506,
   "id": "44e0a4ca",
   "metadata": {},
   "outputs": [
    {
     "data": {
      "text/plain": [
       "<AxesSubplot:>"
      ]
     },
     "execution_count": 506,
     "metadata": {},
     "output_type": "execute_result"
    },
    {
     "data": {
      "image/png": "[encoded data removed]",
      "text/plain": [
       "<Figure size 720x504 with 1 Axes>"
      ]
     },
     "metadata": {
      "needs_background": "light"
     },
     "output_type": "display_data"
    }
   ],
   "source": [
    "plt.figure(figsize=(10,7))\n",
    "cards.isna().mean().sort_values(ascending=True).plot(kind='barh')"
   ]
  },
  {
   "cell_type": "markdown",
   "id": "f626f39d",
   "metadata": {},
   "source": [
    "Избавимся от них"
   ]
  },
  {
   "cell_type": "code",
   "execution_count": 507,
   "id": "77aa589c",
   "metadata": {},
   "outputs": [],
   "source": [
    "cards_cleaned = cards.dropna(axis='columns', how='all')"
   ]
  },
  {
   "cell_type": "code",
   "execution_count": 508,
   "id": "edb4adaa",
   "metadata": {},
   "outputs": [
    {
     "data": {
      "text/plain": [
       "(66770, 32)"
      ]
     },
     "execution_count": 508,
     "metadata": {},
     "output_type": "execute_result"
    }
   ],
   "source": [
    "cards_cleaned.shape"
   ]
  },
  {
   "cell_type": "markdown",
   "id": "f0cd81b3",
   "metadata": {},
   "source": [
    "## Задание 1\n",
    "Построим распределение карт по их цвету в зависимоти от редкости, для этого воспользуюсь displot из Seaborn, он позволяет удобно разбивать на несколько графиков по параметру, что мне как раз и нужно\n",
    "\n",
    "Существуют бесцветные карты, насколько я понял в этом датасете, у таких карт цвет был просто пропущен, на графиках такие карты обозначены как `Colorless`"
   ]
  },
  {
   "cell_type": "code",
   "execution_count": 509,
   "id": "7e70ef51",
   "metadata": {},
   "outputs": [
    {
     "data": {
      "text/plain": [
       "rarity    colors                   \n",
       "Bonus     NaN                             7\n",
       "          ['Blue']                        3\n",
       "Common    NaN                          5803\n",
       "          ['Green']                    3415\n",
       "          ['Black']                    3242\n",
       "                                       ... \n",
       "Uncommon  ['Black', 'Red', 'White']       3\n",
       "          ['Red', 'Blue', 'White']        3\n",
       "          ['Blue', 'Red']                 2\n",
       "          ['White', 'Black']              2\n",
       "          ['White', 'Red']                2\n",
       "Name: colors, Length: 158, dtype: int64"
      ]
     },
     "execution_count": 509,
     "metadata": {},
     "output_type": "execute_result"
    }
   ],
   "source": [
    "cards_cleaned.groupby([\"rarity\"])[\"colors\"].value_counts(dropna=False)"
   ]
  },
  {
   "cell_type": "code",
   "execution_count": 510,
   "id": "c12ebac1",
   "metadata": {},
   "outputs": [
    {
     "data": {
      "image/png": "[encoded data removed]",
      "text/plain": [
       "<Figure size 907.2x1008 with 6 Axes>"
      ]
     },
     "metadata": {
      "needs_background": "light"
     },
     "output_type": "display_data"
    }
   ],
   "source": [
    "sns.displot(y='colors',col='rarity',data=cards_cleaned.fillna(value={'colors':\"[Colorless]\"}),\n",
    "            col_wrap=3, \n",
    "            facet_kws=dict(sharex=False),\n",
    "            height=7,\n",
    "            aspect=0.6\n",
    "           )\n",
    "plt.tight_layout()"
   ]
  },
  {
   "cell_type": "markdown",
   "id": "a2ed1b14",
   "metadata": {},
   "source": [
    "Можно увидеть, что бонусные карты только синие или бесцветные.<br>\n",
    "Интересно, что среди мифических карт особенно много карт с несколькими цветами одновременно, причем карт, с 5 цветами одновременно больше чем с 4 или 3<br>\n",
    "Также можно заметить, что сочетания двух цветов у Common, Uncommon и Rare распределены примерно одинаково, а вот среди Мистических карт часто встречается сочетание [Black, Green], а для Специальных карт — [Green, White]"
   ]
  },
  {
   "cell_type": "markdown",
   "id": "213ecadb",
   "metadata": {},
   "source": [
    "## Задание 2\n",
    "\n",
    "Отберем карты, запрещенные в формате Commander (в колонке legalities для каждой карты перечислены разрешенные и запрещенные форматы для конкретной карты)"
   ]
  },
  {
   "cell_type": "code",
   "execution_count": 511,
   "id": "7f49ec22",
   "metadata": {},
   "outputs": [],
   "source": [
    "banned_cards = cards_cleaned['legalities'] \\\n",
    "  .str.contains(\"{'format': 'Commander', 'legality': 'Banned'}\",regex=False, na=False)"
   ]
  },
  {
   "cell_type": "markdown",
   "id": "0925b30f",
   "metadata": {},
   "source": [
    "Посчитаем процент запрещённых карт:"
   ]
  },
  {
   "cell_type": "code",
   "execution_count": 512,
   "id": "3d63d520",
   "metadata": {},
   "outputs": [
    {
     "name": "stdout",
     "output_type": "stream",
     "text": [
      "0.526%\n"
     ]
    }
   ],
   "source": [
    "print(f\"{banned_cards.mean():.3%}\")"
   ]
  },
  {
   "cell_type": "markdown",
   "id": "dbab5115",
   "metadata": {},
   "source": [
    "Также построим распределение запрещённых карт по их типу"
   ]
  },
  {
   "cell_type": "code",
   "execution_count": 513,
   "id": "0882c326",
   "metadata": {},
   "outputs": [
    {
     "data": {
      "text/plain": [
       "Sorcery                                 96\n",
       "Artifact                                81\n",
       "Enchantment                             36\n",
       "Conspiracy                              26\n",
       "Instant                                 19\n",
       "Legendary Land                          12\n",
       "Legendary Creature — Eldrazi             9\n",
       "Legendary Creature — Demon               7\n",
       "Creature — Giant                         7\n",
       "Creature — Human Nomad                   6\n",
       "Artifact Creature — Golem                6\n",
       "Legendary Creature — Elemental Otter     5\n",
       "Land                                     5\n",
       "Legendary Artifact                       4\n",
       "Legendary Creature — Elf Advisor         4\n",
       "Creature — Efreet                        4\n",
       "Legendary Creature — Angel               3\n",
       "Legendary Artifact Creature — Scout      3\n",
       "Creature — Human Wizard                  3\n",
       "Legendary Creature — Human Minion        3\n",
       "Creature — Merfolk Pirate                3\n",
       "Creature — Devil                         2\n",
       "Legendary Creature — Elf Druid           2\n",
       "Creature — Horror                        1\n",
       "Creature — Avatar                        1\n",
       "Enchantment — Aura                       1\n",
       "Legendary Creature — Moonfolk Monk       1\n",
       "Legendary Enchantment                    1\n",
       "Name: type, dtype: int64"
      ]
     },
     "execution_count": 513,
     "metadata": {},
     "output_type": "execute_result"
    }
   ],
   "source": [
    "cards_cleaned.loc[banned_cards,'type'].value_counts()"
   ]
  },
  {
   "cell_type": "code",
   "execution_count": 514,
   "id": "0e82a4a6",
   "metadata": {},
   "outputs": [
    {
     "data": {
      "image/png": "[encoded data removed]",
      "text/plain": [
       "<Figure size 720x504 with 1 Axes>"
      ]
     },
     "metadata": {
      "needs_background": "light"
     },
     "output_type": "display_data"
    }
   ],
   "source": [
    "plt.figure(figsize=(10,7))\n",
    "plt.title('Распределение по типу карт запрещенных в формате Commander');\n",
    "cards_cleaned.loc[banned_cards,'type'].value_counts(sort=False).sort_values().plot(kind='barh');"
   ]
  },
  {
   "cell_type": "markdown",
   "id": "1aac27dc",
   "metadata": {},
   "source": [
    "## Задание 3\n",
    "Найдем топ-10 карт, не являющихся землями, которые были напечатаны в наибольшем количестве сетов"
   ]
  },
  {
   "cell_type": "code",
   "execution_count": 515,
   "id": "73366e16",
   "metadata": {},
   "outputs": [],
   "source": [
    "not_lands = cards_cleaned[~cards_cleaned.type.str.contains('Land', regex=False, na=False)]"
   ]
  },
  {
   "cell_type": "code",
   "execution_count": 516,
   "id": "c38867a7",
   "metadata": {},
   "outputs": [
    {
     "data": {
      "text/plain": [
       "name\n",
       "Giant Growth            47\n",
       "Counterspell            46\n",
       "Serra Angel             42\n",
       "Swords to Plowshares    42\n",
       "Disenchant              41\n",
       "Dark Ritual             41\n",
       "Sol Ring                41\n",
       "Llanowar Elves          40\n",
       "Fireball                35\n",
       "Wrath of God            33\n",
       "Name: set, dtype: int64"
      ]
     },
     "execution_count": 516,
     "metadata": {},
     "output_type": "execute_result"
    }
   ],
   "source": [
    "not_lands.groupby(['name'],sort=False)['set'].nunique().nlargest(10)"
   ]
  },
  {
   "cell_type": "markdown",
   "id": "f2b172f8",
   "metadata": {},
   "source": [
    "Для этого отберем карты у которых тип не содержит слова `Land`, затем сгруппируем их по названию карт и посчитаем количество уникальных сетов, в которых она появлялась."
   ]
  },
  {
   "cell_type": "markdown",
   "id": "eae77027",
   "metadata": {},
   "source": [
    "Сначала я посчитал неправильно, и увидел, что есть колонка, в которой перечислены все сеты, в которых была напечатана карта, можно было идти и по этому пути, просто посчитать количество перечисленных сетов, затем сгруппировать по имени карты, но первый вариант мне показался проще."
   ]
  },
  {
   "cell_type": "code",
   "execution_count": 517,
   "id": "470a03f7",
   "metadata": {},
   "outputs": [
    {
     "data": {
      "text/plain": [
       "358      47\n",
       "705      47\n",
       "1392     47\n",
       "1747     47\n",
       "2126     47\n",
       "2731     47\n",
       "3115     47\n",
       "3483     47\n",
       "3850     47\n",
       "4198     47\n",
       "4477     47\n",
       "7383     47\n",
       "7959     47\n",
       "8678     47\n",
       "8842     47\n",
       "12134    47\n",
       "12436    47\n",
       "16416    47\n",
       "16597    47\n",
       "18513    47\n",
       "18885    47\n",
       "19698    47\n",
       "20844    47\n",
       "21471    47\n",
       "21897    47\n",
       "23489    47\n",
       "24564    47\n",
       "26516    47\n",
       "29012    47\n",
       "29308    47\n",
       "30352    47\n",
       "30595    47\n",
       "31338    47\n",
       "33975    47\n",
       "35000    47\n",
       "35199    47\n",
       "35464    47\n",
       "42257    47\n",
       "44640    47\n",
       "47822    47\n",
       "47915    47\n",
       "47920    47\n",
       "50258    47\n",
       "51437    47\n",
       "54720    47\n",
       "58228    47\n",
       "64003    47\n",
       "64829    47\n",
       "65034    47\n",
       "Name: printings, dtype: int64"
      ]
     },
     "execution_count": 517,
     "metadata": {},
     "output_type": "execute_result"
    }
   ],
   "source": [
    "not_lands[not_lands.name=='Giant Growth'].printings.str.count(\"'\\w+'\")"
   ]
  },
  {
   "cell_type": "markdown",
   "id": "5737204e",
   "metadata": {},
   "source": [
    "## Задание 4\n",
    "\n",
    "Для карт, не являющихся землями определить какая часть дает ману в качестве своего эффекта.\n",
    "Построить распределение по типу маны, который дают эти карты."
   ]
  },
  {
   "cell_type": "code",
   "execution_count": 518,
   "id": "56ce9fc6",
   "metadata": {},
   "outputs": [
    {
     "data": {
      "text/plain": [
       "(59178, 32)"
      ]
     },
     "execution_count": 518,
     "metadata": {},
     "output_type": "execute_result"
    }
   ],
   "source": [
    "not_lands.shape"
   ]
  },
  {
   "cell_type": "markdown",
   "id": "02939ab6",
   "metadata": {},
   "source": [
    "Среди карт, не являщихся землями, посчитаем процент карт, которые дают ману"
   ]
  },
  {
   "cell_type": "code",
   "execution_count": 519,
   "id": "cf0634b2",
   "metadata": {},
   "outputs": [],
   "source": [
    "cards_give_mana = not_lands.text.str.contains('add {\\w}', case=False, na=False)"
   ]
  },
  {
   "cell_type": "code",
   "execution_count": 520,
   "id": "547e79dc",
   "metadata": {},
   "outputs": [
    {
     "name": "stdout",
     "output_type": "stream",
     "text": [
      "2.704%\n"
     ]
    }
   ],
   "source": [
    "print(f\"{cards_give_mana.mean():.3%}\")"
   ]
  },
  {
   "cell_type": "code",
   "execution_count": 521,
   "id": "ade8704d",
   "metadata": {},
   "outputs": [],
   "source": [
    "mana = not_lands[cards_give_mana].text.str.extract(\"[Aa]dd ((?:{\\w})+|{\\w} or {\\w})\\.\", expand=False)"
   ]
  },
  {
   "cell_type": "code",
   "execution_count": 522,
   "id": "101262a3",
   "metadata": {},
   "outputs": [
    {
     "data": {
      "text/plain": [
       "Colorless    794\n",
       "Red          508\n",
       "Green        470\n",
       "Black        407\n",
       "Blue         192\n",
       "White        168\n",
       "dtype: int64"
      ]
     },
     "execution_count": 522,
     "metadata": {},
     "output_type": "execute_result"
    }
   ],
   "source": [
    "color_dist = pd.Series(mana[mana.notna()].str.findall('{(\\w)}').sum()) \\\n",
    "    .map({\"C\":\"Colorless\",\"R\":\"Red\",\"G\":\"Green\",\"B\":\"Black\", \"U\":\"Blue\", \"W\":\"White\"}) \\\n",
    "    .value_counts()\n",
    "color_dist"
   ]
  },
  {
   "cell_type": "code",
   "execution_count": 523,
   "id": "aef56a52",
   "metadata": {},
   "outputs": [
    {
     "data": {
      "text/plain": [
       "<AxesSubplot:>"
      ]
     },
     "execution_count": 523,
     "metadata": {},
     "output_type": "execute_result"
    },
    {
     "data": {
      "image/png": "[encoded data removed]",
      "text/plain": [
       "<Figure size 432x288 with 1 Axes>"
      ]
     },
     "metadata": {
      "needs_background": "light"
     },
     "output_type": "display_data"
    }
   ],
   "source": [
    "color_dist.plot(kind='barh')"
   ]
  },
  {
   "cell_type": "markdown",
   "id": "5eed6acd",
   "metadata": {},
   "source": [
    "Сюда могло не попасть некоторое количество карт, потому что описание эффектов не совсем стандартизированы, но я не думаю, что это сильно повлияет на итоговое распределение. \n",
    "\n",
    "Интересено, что хотя цветных карт больше зеленых, но ману дают чаще красного цвета (ну или бесцветную, но и карт таких тоже больше)."
   ]
  }
 ],
 "metadata": {
  "kernelspec": {
   "display_name": "Python 3 (ipykernel)",
   "language": "python",
   "name": "python3"
  },
  "language_info": {
   "codemirror_mode": {
    "name": "ipython",
    "version": 3
   },
   "file_extension": ".py",
   "mimetype": "text/x-python",
   "name": "python",
   "nbconvert_exporter": "python",
   "pygments_lexer": "ipython3",
   "version": "3.9.12"
  }
 },
 "nbformat": 4,
 "nbformat_minor": 5
}
